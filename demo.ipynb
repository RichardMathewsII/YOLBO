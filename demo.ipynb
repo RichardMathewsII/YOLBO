{
  "nbformat": 4,
  "nbformat_minor": 0,
  "metadata": {
    "colab": {
      "name": "demo.ipynb",
      "provenance": [],
      "collapsed_sections": [],
      "authorship_tag": "ABX9TyMqVMiWnQ83MHB89+mujmCx",
      "include_colab_link": true
    },
    "kernelspec": {
      "name": "python3",
      "display_name": "Python 3"
    },
    "accelerator": "GPU"
  },
  "cells": [
    {
      "cell_type": "markdown",
      "metadata": {
        "id": "view-in-github",
        "colab_type": "text"
      },
      "source": [
        "<a href=\"https://colab.research.google.com/github/RichardMathewsII/YOLBO/blob/master/demo.ipynb\" target=\"_parent\"><img src=\"https://colab.research.google.com/assets/colab-badge.svg\" alt=\"Open In Colab\"/></a>"
      ]
    },
    {
      "cell_type": "markdown",
      "metadata": {
        "id": "n2BzmlZv6XfG",
        "colab_type": "text"
      },
      "source": [
        "Open and run this file in Google Colab. Make sure to change runtime type and set hardware accelerator to GPU. The model demo will run more smoothly on the paid Google Colab Pro version, but the free version will run as well."
      ]
    },
    {
      "cell_type": "markdown",
      "metadata": {
        "id": "SCfM7ssk40Af",
        "colab_type": "text"
      },
      "source": [
        "# Install and Import Dependencies"
      ]
    },
    {
      "cell_type": "code",
      "metadata": {
        "id": "2OdMYKNevi1m",
        "colab_type": "code",
        "colab": {}
      },
      "source": [
        "!git clone https://github.com/RichardMathewsII/YOLBO"
      ],
      "execution_count": 0,
      "outputs": []
    },
    {
      "cell_type": "code",
      "metadata": {
        "id": "1CCp1sb48XR5",
        "colab_type": "code",
        "colab": {}
      },
      "source": [
        "cd /content/YOLBO/"
      ],
      "execution_count": 0,
      "outputs": []
    },
    {
      "cell_type": "code",
      "metadata": {
        "id": "bv9dqQ46v1q1",
        "colab_type": "code",
        "colab": {}
      },
      "source": [
        "!pip install numpy\n",
        "!pip install keras\n",
        "!pip install tensorflow\n",
        "!pip install keras_resnet"
      ],
      "execution_count": 0,
      "outputs": []
    },
    {
      "cell_type": "code",
      "metadata": {
        "id": "wgPZSx9kv94I",
        "colab_type": "code",
        "colab": {}
      },
      "source": [
        "!python setup.py build_ext --inplace"
      ],
      "execution_count": 0,
      "outputs": []
    },
    {
      "cell_type": "code",
      "metadata": {
        "id": "VMFqYB31wG-N",
        "colab_type": "code",
        "colab": {}
      },
      "source": [
        "%tensorflow_version 1.x"
      ],
      "execution_count": 0,
      "outputs": []
    },
    {
      "cell_type": "code",
      "metadata": {
        "id": "tMPYZjvKwaTV",
        "colab_type": "code",
        "colab": {}
      },
      "source": [
        "import sys\n",
        "sys.path.insert(0, '/content/YOLBO')\n",
        "import cv2\n",
        "import numpy as np\n",
        "from keras_retinanet import models\n",
        "from keras_retinanet.utils.image import read_image_bgr, preprocess_image, resize_image\n",
        "from keras_retinanet.utils.visualization import draw_box, draw_caption\n",
        "from keras_retinanet.utils.colors import label_color\n",
        "from keras_retinanet.utils.gpu import setup_gpu\n",
        "import os\n",
        "import tensorflow as tf\n",
        "import keras\n",
        "from visualization import *\n",
        "from object_detection import *\n",
        "from video_detection import detect_objects_in_video\n",
        "from look_back import *"
      ],
      "execution_count": 0,
      "outputs": []
    },
    {
      "cell_type": "markdown",
      "metadata": {
        "id": "CtsHxg3e5B_l",
        "colab_type": "text"
      },
      "source": [
        "# Upload Weights and Sample Video"
      ]
    },
    {
      "cell_type": "code",
      "metadata": {
        "id": "OoHLjCAV-W3R",
        "colab_type": "code",
        "colab": {}
      },
      "source": [
        "cd /content/YOLBO/demo"
      ],
      "execution_count": 0,
      "outputs": []
    },
    {
      "cell_type": "code",
      "metadata": {
        "id": "ZuVhdPh904I6",
        "colab_type": "code",
        "colab": {}
      },
      "source": [
        "gpu = 0\n",
        "setup_gpu(gpu)\n",
        "# download weights ('resnet50_coco_weights.h5') from releases on GitHub repo (https://github.com/RichardMathewsII/YOLBO/releases)\n",
        "# upload weights and sample video to the demo folder\n",
        "# check to ensure files have been uploaded\n",
        "os.chdir('/content/YOLBO/demo')\n",
        "!ls"
      ],
      "execution_count": 0,
      "outputs": []
    },
    {
      "cell_type": "markdown",
      "metadata": {
        "id": "uy_CeNiB5TC_",
        "colab_type": "text"
      },
      "source": [
        "# Load RetinaNet Model with Pretrained ResNet50 Backbone"
      ]
    },
    {
      "cell_type": "code",
      "metadata": {
        "id": "Uy2kOi552PQj",
        "colab_type": "code",
        "colab": {}
      },
      "source": [
        "# load retinanet model with pretrained backbone\n",
        "path = os.getcwd()\n",
        "model_path = os.path.join(path, 'resnet50_coco_weights.h5')\n",
        "model = models.load_model(model_path, backbone_name='resnet50')\n",
        "# NOTE: OSError: Unable to open file (truncated file: eof = 27262976, sblock->base_addr = 0, stored_eof = 152662144)\n",
        "# This error arises when the weights file was corrupted upon uploading. Delete the file and reupload.\n",
        "\n",
        "# create object classes dictionary\n",
        "labels_to_names = {0: 'person', 1: 'bicycle', 2: 'car', 3: 'motorcycle', 4: 'airplane', \n",
        "                   5: 'bus', 6: 'train', 7: 'truck', 8: 'boat', 9: 'traffic light', \n",
        "                   10: 'fire hydrant', 11: 'stop sign', 12: 'parking meter', 13: 'bench', \n",
        "                   14: 'bird', 15: 'cat', 16: 'dog', 17: 'horse', 18: 'sheep', 19: 'cow', \n",
        "                   20: 'elephant', 21: 'bear', 22: 'zebra', 23: 'giraffe', 24: 'backpack', \n",
        "                   25: 'umbrella', 26: 'handbag', 27: 'tie', 28: 'suitcase', 29: 'frisbee', \n",
        "                   30: 'skis', 31: 'snowboard', 32: 'sports ball', 33: 'kite', \n",
        "                   34: 'baseball bat', 35: 'baseball glove', 36: 'skateboard', \n",
        "                   37: 'surfboard', 38: 'tennis racket', 39: 'bottle', 40: 'wine glass', \n",
        "                   41: 'cup', 42: 'fork', 43: 'knife', 44: 'spoon', 45: 'bowl', 46: 'banana', \n",
        "                   47: 'apple', 48: 'sandwich', 49: 'orange', 50: 'broccoli', 51: 'carrot', \n",
        "                   52: 'hot dog', 53: 'pizza', 54: 'donut', 55: 'cake', 56: 'chair',\n",
        "                   57: 'couch', 58: 'potted plant', 59: 'bed', 60: 'dining table', \n",
        "                   61: 'toilet', 62: 'tv', 63: 'laptop', 64: 'mouse', 65: 'remote', \n",
        "                   66: 'keyboard', 67: 'cell phone', 68: 'microwave', 69: 'oven', \n",
        "                   70: 'toaster', 71: 'sink', 72: 'refrigerator', 73: 'book', 74: 'clock', \n",
        "                   75: 'vase', 76: 'scissors', 77: 'teddy bear', 78: 'hair drier', 79: 'toothbrush'}"
      ],
      "execution_count": 0,
      "outputs": []
    },
    {
      "cell_type": "markdown",
      "metadata": {
        "id": "78X3qbzj5dqi",
        "colab_type": "text"
      },
      "source": [
        "# Run the Model on Your Sample Video"
      ]
    },
    {
      "cell_type": "markdown",
      "metadata": {
        "id": "Lk2xKjw75rmm",
        "colab_type": "text"
      },
      "source": [
        "The output will appear in the demo folder"
      ]
    },
    {
      "cell_type": "code",
      "metadata": {
        "id": "aVmEMWUA3CyM",
        "colab_type": "code",
        "colab": {}
      },
      "source": [
        "# set video path (if using demo video from the releases page, the name is demo_original.mp4)\n",
        "video_path = '/content/YOLBO/demo/INSERT_VIDEO_FILE_NAME'\n",
        "video_output = 'demo_annotated.avi'\n",
        "\n",
        "# for extracting specific frames, set output=\"frames\" and frames=[frame#s] (integers for frame number)\n",
        "# check video properties and change fps parameter if it is not 30\n",
        "detect_objects_in_video(video_path, model, labels_to_names, video_output_name, output=\"video\", fps=30, frames=None, yolbo=True)"
      ],
      "execution_count": 0,
      "outputs": []
    }
  ]
}